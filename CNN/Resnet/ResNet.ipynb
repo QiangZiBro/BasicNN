{
 "cells": [
  {
   "cell_type": "markdown",
   "metadata": {},
   "source": [
    "# ResNet实现\n",
    "本篇notebook是对大名鼎鼎的ResNet(https://arxiv.org/pdf/1512.03385.pdf ）复现，开始干吧!\n",
    "* 引用pytorch的基础包\n",
    "* 加载CIFAR10数据集\n",
    "* 定义残差块\n",
    "* 定义网络整体结构"
   ]
  },
  {
   "cell_type": "markdown",
   "metadata": {},
   "source": [
    "\n",
    "## 1 引用pytorch的基础包"
   ]
  },
  {
   "cell_type": "code",
   "execution_count": 27,
   "metadata": {},
   "outputs": [
    {
     "name": "stdout",
     "output_type": "stream",
     "text": [
      "resnet100.ckpt\tresnet200.ckpt\tresnet300.ckpt\tresnet400.ckpt\tresnet50.ckpt\n",
      "resnet150.ckpt\tresnet250.ckpt\tresnet350.ckpt\tresnet450.ckpt\tResNet.ipynb\n"
     ]
    }
   ],
   "source": [
    "import torch\n",
    "import torch.nn as nn\n",
    "import torchvision\n",
    "import torchvision.transforms as transforms\n",
    "DATASETS_PATH = '/home/qiangzibro/Projects/DATASETS/'\n",
    "\n",
    "#使用gpu训练\n",
    "device = torch.device('cuda' if torch.cuda.is_available() else 'cpu')\n",
    "#定义超参数\n",
    "number_epochs = 80\n",
    "learning_rate = 0.001\n",
    "\n",
    "#图像处理\n",
    "transform = transforms.Compose([\n",
    "    transforms.Pad(4),\n",
    "    transforms.RandomHorizontalFlip(),\n",
    "    transforms.RandomCrop(32),\n",
    "    transforms.ToTensor()])\n",
    "!ls"
   ]
  },
  {
   "cell_type": "markdown",
   "metadata": {},
   "source": [
    "## 2加载CIFAR10数据集"
   ]
  },
  {
   "cell_type": "code",
   "execution_count": 2,
   "metadata": {},
   "outputs": [],
   "source": [
    "train_dataset = torchvision.datasets.CIFAR10(root=DATASETS_PATH,\n",
    "                                             train=True,\n",
    "                                             transform=transform,\n",
    "                                             download=False)\n",
    "test_dataset = torchvision.datasets.CIFAR10(root=DATASETS_PATH,\n",
    "                                      train=False,\n",
    "                                      transform=transform)\n",
    "\n",
    "train_loader = torch.utils.data.DataLoader(dataset=train_dataset,\n",
    "                                           batch_size=100,\n",
    "                                           shuffle=True)\n",
    "test_loader = torch.utils.data.DataLoader(dataset=test_dataset,\n",
    "                                          batch_size=100,\n",
    "                                          shuffle=False)"
   ]
  },
  {
   "cell_type": "markdown",
   "metadata": {},
   "source": [
    "## 3.定义残差块"
   ]
  },
  {
   "cell_type": "code",
   "execution_count": 3,
   "metadata": {},
   "outputs": [],
   "source": [
    "def conv3x3(in_channels, out_channels, stride=1):\n",
    "    return nn.Conv2d(in_channels,out_channels,kernel_size=3,\n",
    "                     stride=stride,padding=1,bias=False)\n",
    "\n",
    "class ResidualBlock(nn.Module):\n",
    "    \"\"\"\n",
    "    定义一个残差块，注意输入数据格式是(N,C,H,W)\n",
    "    args:\n",
    "        in_channels 输入图像batch的特征通道数\n",
    "        out_channels 输出图像batch的特征通道数\n",
    "    \"\"\"\n",
    "    def __init__(self,in_channels,out_channels,stride=1,downsample=None):\n",
    "        super(ResidualBlock,self).__init__()\n",
    "        self.conv1 = conv3x3(in_channels,out_channels,stride)\n",
    "        self.bn1 = nn.BatchNorm2d(out_channels)\n",
    "        self.relu = nn.ReLU(inplace=True)\n",
    "        self.conv2 = conv3x3(out_channels,out_channels)\n",
    "        self.bn2 = nn.BatchNorm2d(out_channels)\n",
    "        self.downsample = downsample\n",
    "    \n",
    "    def forward(self,x):\n",
    "        residual = x\n",
    "        out = self.conv1(x)\n",
    "        out = self.bn1(out)\n",
    "        out = self.relu(out)\n",
    "        out = self.conv2(out)\n",
    "        out = self.bn2(out)\n",
    "        if self.downsample:\n",
    "            residual = self.downsample(x)\n",
    "        out += residual\n",
    "        out = self.relu(out)\n",
    "        return out"
   ]
  },
  {
   "cell_type": "markdown",
   "metadata": {},
   "source": [
    "## 4.定义网络结构"
   ]
  },
  {
   "cell_type": "code",
   "execution_count": 6,
   "metadata": {},
   "outputs": [],
   "source": [
    "class ResNet(nn.Module):\n",
    "    def __init__(self, block, layers, num_classes=10):\n",
    "        super(ResNet, self).__init__()\n",
    "        self.in_channels = 16\n",
    "        self.conv1 = conv3x3(3,self.in_channels)\n",
    "        self.bn1 = nn.BatchNorm2d(self.in_channels)\n",
    "        self.relu1 = nn.ReLU(inplace=True)\n",
    "        self.layer1 = self.make_layer(block, 16, layers[0])\n",
    "        self.layer2 = self.make_layer(block, 32, layers[1], 2)\n",
    "        self.layer3 = self.make_layer(block, 64, layers[2], 2)\n",
    "        self.avg_pool = nn.AvgPool2d(8)\n",
    "        #最后是要完成一个分类的任务，所以做了全连接网络\n",
    "        self.fc = nn.Linear(64, num_classes)\n",
    "        \n",
    "    def make_layer(self, block, out_channels, blocks, stride=1):\n",
    "        \"\"\"\n",
    "        构建一个残差层，其中有`blocks`个残差块。如果输入通道和输出通道不一样，需要对输入进行下采样。也就是x+F(x)中第一项进行下采样，目的是维度匹配。\n",
    "        args:\n",
    "            block: 残差块\n",
    "            out_channels: 输出通道\n",
    "            blocks: 残差块的个数\n",
    "            stride: 卷积步长\n",
    "        \"\"\"\n",
    "        downsample = None\n",
    "        if self.in_channels != out_channels or stride != 1:\n",
    "            #两种情况都会造成x和F(x)的维度不一致\n",
    "            downsample = nn.Sequential(\n",
    "                conv3x3(self.in_channels, out_channels, stride=stride ),\n",
    "                nn.BatchNorm2d(out_channels)\n",
    "            )\n",
    "\n",
    "        layers = []\n",
    "        layers.append(block(self.in_channels, out_channels, stride, downsample)) #因为尺寸变化，所以第一个残差块做了一个下采样\n",
    "        self.in_channels = out_channels\n",
    "        for i in range(1, blocks):\n",
    "            layers.append(block(out_channels, out_channels))\n",
    "        return nn.Sequential(*layers)\n",
    "    \n",
    "    def forward(self, x):\n",
    "        out = self.conv1(x)\n",
    "        out = self.bn1(out)\n",
    "        out = self.relu1(out)\n",
    "        out = self.layer1(out)\n",
    "        out = self.layer2(out)\n",
    "        out = self.layer3(out)\n",
    "        out = self.avg_pool(out)\n",
    "        out = out.view(out.shape[0], -1)\n",
    "        out = self.fc(out)\n",
    "        return out\n",
    "    \n",
    "model = ResNet(ResidualBlock, [2,2,2]).to(device)"
   ]
  },
  {
   "cell_type": "code",
   "execution_count": 7,
   "metadata": {},
   "outputs": [
    {
     "data": {
      "text/plain": [
       "torch.Size([3, 10])"
      ]
     },
     "execution_count": 7,
     "metadata": {},
     "output_type": "execute_result"
    }
   ],
   "source": [
    "#为了测试\n",
    "fake_image = torch.randn(3,3,32,32).to(device)\n",
    "out = model(fake_image)\n",
    "out.shape"
   ]
  },
  {
   "cell_type": "markdown",
   "metadata": {},
   "source": [
    "## 5.开始训练\n",
    "在完成网络的设计后，定义损失函数和优化方式，开始训练。归纳：一个常见的训练流程是\n",
    "```\n",
    "criterion = ...\n",
    "optimizer = ...\n",
    "\n",
    "for epoch in range(number_epochs):\n",
    "    for i, (images, labels) in enumerate(train_loader):\n",
    "        images = images.to(device)\n",
    "        labels = labels.to(device)\n",
    "        \n",
    "        #前向传播\n",
    "        outputs = model(images)\n",
    "        loss = criterion(outputs, labels)\n",
    "        \n",
    "        #反向传播\n",
    "        optimizer.zero_grad()\n",
    "        loss.backward()\n",
    "        optimizer.step()\n",
    "```"
   ]
  },
  {
   "cell_type": "code",
   "execution_count": 100,
   "metadata": {},
   "outputs": [],
   "source": [
    "criterion = nn.CrossEntropyLoss()\n",
    "optimizer = torch.optim.Adam(model.parameters(), lr=learning_rate)\n",
    "\n",
    "def update_lr(optimizer, lr):\n",
    "    for p in optimizer.param_groups:\n",
    "        p['lr'] = lr"
   ]
  },
  {
   "cell_type": "code",
   "execution_count": 119,
   "metadata": {},
   "outputs": [
    {
     "data": {
      "text/plain": [
       "<All keys matched successfully>"
      ]
     },
     "execution_count": 119,
     "metadata": {},
     "output_type": "execute_result"
    }
   ],
   "source": [
    "model.load_state_dict(torch.load(MODEL_PATH))"
   ]
  },
  {
   "cell_type": "code",
   "execution_count": 120,
   "metadata": {},
   "outputs": [
    {
     "name": "stdout",
     "output_type": "stream",
     "text": [
      "Epoch [51/80], Step [500/500] Loss: 0.0605\n",
      "Epoch [101/80], Step [500/500] Loss: 0.0444\n",
      "Epoch [151/80], Step [500/500] Loss: 0.0247\n",
      "Epoch [201/80], Step [500/500] Loss: 0.0260\n",
      "Epoch [251/80], Step [500/500] Loss: 0.0234\n",
      "Epoch [301/80], Step [500/500] Loss: 0.0172\n",
      "Epoch [351/80], Step [500/500] Loss: 0.0288\n",
      "Epoch [401/80], Step [500/500] Loss: 0.0595\n",
      "Epoch [451/80], Step [500/500] Loss: 0.0657\n"
     ]
    }
   ],
   "source": [
    "total_step = len(train_loader)\n",
    "curr_lr = learning_rate\n",
    "for epoch in range(1,500):\n",
    "    for i, (images, labels) in enumerate(train_loader):\n",
    "        images = images.to(device)\n",
    "        labels = labels.to(device)\n",
    "        \n",
    "        #前向传播\n",
    "        outputs = model(images)\n",
    "        loss = criterion(outputs, labels)\n",
    "        \n",
    "        #反向传播\n",
    "        optimizer.zero_grad()\n",
    "        loss.backward()\n",
    "        optimizer.step()\n",
    "        \n",
    "#         if (i+1) % 100 == 0:\n",
    "#             print (\"Epoch [{}/{}], Step [{}/{}] Loss: {:.4f}\"\n",
    "#                    .format(epoch+1, number_epochs, i+1, total_step, loss.item()))\n",
    "    # Decay learning rate\n",
    "    if (epoch+1) % 20 == 0:\n",
    "        curr_lr /= 3\n",
    "        update_lr(optimizer, curr_lr)\n",
    "    if epoch % 50 == 0:\n",
    "        print (\"Epoch [{}/{}], Step [{}/{}] Loss: {:.4f}\"\n",
    "                   .format(epoch+1, number_epochs, i+1, total_step, loss.item()))\n",
    "        torch.save(model.state_dict(), 'resnet{}.ckpt'.format(epoch))\n",
    "        "
   ]
  },
  {
   "cell_type": "markdown",
   "metadata": {},
   "source": [
    "## 6 模型的保存与测试\n",
    "### 6.1 模型保存\n",
    "只需要记住这样一个模板化的方式即可\n",
    "* 保存torch.save(model.state_dict(), MODEL_PATH)"
   ]
  },
  {
   "cell_type": "code",
   "execution_count": 102,
   "metadata": {},
   "outputs": [],
   "source": [
    "# Save the model checkpoint\n",
    "torch.save(model.state_dict(), 'resnet.ckpt')"
   ]
  },
  {
   "cell_type": "markdown",
   "metadata": {},
   "source": [
    "### 6.2 模型加载和评估\n",
    "* 加载模型 test_model.load_state_dict(torch.load(MODEL_PATH))，注意这里的对象`test_model`要和模型对应的参数完全一致\n",
    "* 测试\n"
   ]
  },
  {
   "cell_type": "code",
   "execution_count": 24,
   "metadata": {},
   "outputs": [],
   "source": [
    "#加载模型\n",
    "def evaluate(model, test_loader, MODEL_PATH = 'resnet100.ckpt'):\n",
    "    test_model = model(ResidualBlock, [2,2,2]).to(device)\n",
    "    test_model.load_state_dict(torch.load(MODEL_PATH))\n",
    "\n",
    "    test_model.eval()\n",
    "    with torch.no_grad():\n",
    "        correct = 0\n",
    "        total = 0\n",
    "        for images, labels in test_loader:\n",
    "            images = images.to(device)\n",
    "            labels = labels.to(device)\n",
    "            outputs = test_model(images)\n",
    "            _, predicted = torch.max(outputs.data, 1)\n",
    "            total += labels.size(0)\n",
    "            correct += (predicted == labels).sum().item()\n",
    "\n",
    "        print('Accuracy of the {} on the test images: {} %'.format(MODEL_PATH,\n",
    "                                                         100 * correct / total))\n",
    "        return correct / total\n"
   ]
  },
  {
   "cell_type": "code",
   "execution_count": 25,
   "metadata": {},
   "outputs": [
    {
     "name": "stdout",
     "output_type": "stream",
     "text": [
      "Accuracy of the resnet200.ckpt on the test images: 88.48 %\n",
      "Accuracy of the resnet400.ckpt on the test images: 88.47 %\n",
      "Accuracy of the resnet450.ckpt on the test images: 88.62 %\n",
      "Accuracy of the resnet350.ckpt on the test images: 88.78 %\n",
      "Accuracy of the resnet150.ckpt on the test images: 88.46 %\n",
      "Accuracy of the resnet50.ckpt on the test images: 88.57 %\n",
      "Accuracy of the resnet300.ckpt on the test images: 88.28 %\n",
      "Accuracy of the resnet250.ckpt on the test images: 88.15 %\n",
      "Accuracy of the resnet100.ckpt on the test images: 88.48 %\n"
     ]
    }
   ],
   "source": [
    "import os\n",
    "for f in os.listdir():\n",
    "    if f.split('.')[-1]=='ckpt':\n",
    "        evaluate(ResNet, test_loader, f)"
   ]
  },
  {
   "cell_type": "markdown",
   "metadata": {},
   "source": [
    "# 7 来加载一个模型看看算法效果"
   ]
  },
  {
   "cell_type": "code",
   "execution_count": 20,
   "metadata": {},
   "outputs": [
    {
     "data": {
      "image/png": "[encoded data removed]",
      "text/plain": [
       "<Figure size 432x288 with 1 Axes>"
      ]
     },
     "metadata": {
      "needs_background": "light"
     },
     "output_type": "display_data"
    },
    {
     "name": "stdout",
     "output_type": "stream",
     "text": [
      "真实物体： airplane 预测物体： airplane\n"
     ]
    },
    {
     "data": {
      "image/png": "[encoded data removed]",
      "text/plain": [
       "<Figure size 432x288 with 1 Axes>"
      ]
     },
     "metadata": {
      "needs_background": "light"
     },
     "output_type": "display_data"
    },
    {
     "name": "stdout",
     "output_type": "stream",
     "text": [
      "真实物体： truck 预测物体： truck\n"
     ]
    },
    {
     "data": {
      "image/png": "[encoded data removed]",
      "text/plain": [
       "<Figure size 432x288 with 1 Axes>"
      ]
     },
     "metadata": {
      "needs_background": "light"
     },
     "output_type": "display_data"
    },
    {
     "name": "stdout",
     "output_type": "stream",
     "text": [
      "真实物体： dog 预测物体： dog\n"
     ]
    },
    {
     "data": {
      "image/png": "[encoded data removed]",
      "text/plain": [
       "<Figure size 432x288 with 1 Axes>"
      ]
     },
     "metadata": {
      "needs_background": "light"
     },
     "output_type": "display_data"
    },
    {
     "name": "stdout",
     "output_type": "stream",
     "text": [
      "真实物体： horse 预测物体： horse\n"
     ]
    },
    {
     "data": {
      "image/png": "[encoded data removed]",
      "text/plain": [
       "<Figure size 432x288 with 1 Axes>"
      ]
     },
     "metadata": {
      "needs_background": "light"
     },
     "output_type": "display_data"
    },
    {
     "name": "stdout",
     "output_type": "stream",
     "text": [
      "真实物体： truck 预测物体： truck\n"
     ]
    },
    {
     "data": {
      "image/png": "[encoded data removed]",
      "text/plain": [
       "<Figure size 432x288 with 1 Axes>"
      ]
     },
     "metadata": {
      "needs_background": "light"
     },
     "output_type": "display_data"
    },
    {
     "name": "stdout",
     "output_type": "stream",
     "text": [
      "真实物体： ship 预测物体： ship\n"
     ]
    },
    {
     "data": {
      "image/png": "[encoded data removed]",
      "text/plain": [
       "<Figure size 432x288 with 1 Axes>"
      ]
     },
     "metadata": {
      "needs_background": "light"
     },
     "output_type": "display_data"
    },
    {
     "name": "stdout",
     "output_type": "stream",
     "text": [
      "真实物体： dog 预测物体： dog\n"
     ]
    },
    {
     "data": {
      "image/png": "[encoded data removed]",
      "text/plain": [
       "<Figure size 432x288 with 1 Axes>"
      ]
     },
     "metadata": {
      "needs_background": "light"
     },
     "output_type": "display_data"
    },
    {
     "name": "stdout",
     "output_type": "stream",
     "text": [
      "真实物体： horse 预测物体： horse\n"
     ]
    },
    {
     "data": {
      "image/png": "[encoded data removed]",
      "text/plain": [
       "<Figure size 432x288 with 1 Axes>"
      ]
     },
     "metadata": {
      "needs_background": "light"
     },
     "output_type": "display_data"
    },
    {
     "name": "stdout",
     "output_type": "stream",
     "text": [
      "真实物体： ship 预测物体： ship\n"
     ]
    },
    {
     "data": {
      "image/png": "[encoded data removed]",
      "text/plain": [
       "<Figure size 432x288 with 1 Axes>"
      ]
     },
     "metadata": {
      "needs_background": "light"
     },
     "output_type": "display_data"
    },
    {
     "name": "stdout",
     "output_type": "stream",
     "text": [
      "真实物体： frog 预测物体： frog\n"
     ]
    }
   ],
   "source": [
    "import matplotlib.pyplot as plt\n",
    "MODEL_PATH='./resnet100.ckpt'\n",
    "test_model = ResNet(ResidualBlock, [2,2,2]).to(device)\n",
    "test_model.load_state_dict(torch.load(MODEL_PATH))\n",
    "classes = test_dataset.classes #数据集给的\n",
    "test_model.eval()\n",
    "with torch.no_grad():\n",
    "    for images, labels in test_loader:\n",
    "        images = images.to(device)\n",
    "        labels = labels.to(device)\n",
    "        outputs = test_model(images)\n",
    "        _, predicted = torch.max(outputs.data, 1)\n",
    "        for index in range(10,20):\n",
    "            image = images[index].permute(1,2,0).cpu().numpy()\n",
    "            label_gt = classes[labels[index]]\n",
    "            label_pre= classes[predicted[index]]\n",
    "            plt.imshow(image)\n",
    "            plt.show()\n",
    "            print(\"真实物体：\",label_gt, \"预测物体：\",label_pre)\n",
    "        break"
   ]
  }
 ],
 "metadata": {
  "kernelspec": {
   "display_name": "Python 3",
   "language": "python",
   "name": "python3"
  },
  "language_info": {
   "codemirror_mode": {
    "name": "ipython",
    "version": 3
   },
   "file_extension": ".py",
   "mimetype": "text/x-python",
   "name": "python",
   "nbconvert_exporter": "python",
   "pygments_lexer": "ipython3",
   "version": "3.7.6"
  }
 },
 "nbformat": 4,
 "nbformat_minor": 4
}
